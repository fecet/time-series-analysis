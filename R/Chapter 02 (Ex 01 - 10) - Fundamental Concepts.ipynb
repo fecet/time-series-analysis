{
 "cells": [
  {
   "cell_type": "markdown",
   "metadata": {},
   "source": [
    "## 2. Fundamental Concepts"
   ]
  },
  {
   "cell_type": "markdown",
   "metadata": {},
   "source": [
    "## Exercise 2.1"
   ]
  },
  {
   "cell_type": "markdown",
   "metadata": {},
   "source": [
    " Suppose $\\text{E}[X] = 2$, $\\text{Var}[X] = 9$, $\\text{E}[Y] = 0$, $\\text{Var}[Y] = 4$, and $\\text{Corr}(X, Y) = 0.25$.  Find:\n",
    "\n",
    "**(a)** $\\text{Var}[X + Y]$\n",
    "\n",
    "**(b)** $\\text{Cov}[X, X + Y]$\n",
    "\n",
    "**(c)** $\\text{Corr}[X + Y, X - Y]$"
   ]
  },
  {
   "cell_type": "markdown",
   "metadata": {},
   "source": [
    "**Solution**."
   ]
  },
  {
   "cell_type": "markdown",
   "metadata": {},
   "source": [
    "**(a)** Note that $\\text{Cov}[X, Y] = \\text{Corr}[X, Y] \\sqrt{\\text{Var}[X] \\text{Var}[Y]} = 0.25 \\cdot \\sqrt{9 \\cdot 4} = 1.5$.  Then,\n",
    "\n",
    "$$\\text{Var}[X + Y] = \\text{Var}[X] + \\text{Var}[Y] + \\text{Cov}[X, Y] = 9 + 4 + 1.5 = 14.5$$"
   ]
  },
  {
   "cell_type": "markdown",
   "metadata": {},
   "source": [
    "**(b)**\n",
    "\n",
    "$$ \\text{Cov}[X, X + Y] = \\text{Cov}[X, X] + \\text{Cov}[X, Y] = \\text{Var}[X] + \\text{Cov}[X, Y] = 9 + 1.5 = 10.5 $$"
   ]
  },
  {
   "cell_type": "markdown",
   "metadata": {},
   "source": [
    "**(c)**\n",
    "\n",
    "Computing the covariance:\n",
    "\n",
    "$$ \\text{Cov}[X + Y, X - Y] = \\text{Cov}[X, X] - \\text{Cov}[X, Y] + \\text{Cov}[X, Y] - \\text{Cov}[Y, Y] = \\text{Var}[X] - \\text{Var}[Y] = 9 - 4 = 5 $$\n",
    "\n",
    "Computing the variance of $X + Y$:\n",
    "\n",
    "$$ \\text{Var}[X + Y] = \\text{Var}[X] + \\text{Var}[Y] + \\text{Cov}[X, Y] = 9 + 4 + 1.5 = 14.5 $$\n",
    "\n",
    "Computing the variance of $X - Y$:\n",
    "\n",
    "$$ \\text{Var}[X - Y] = \\text{Var}[X] + \\text{Var}[Y] - \\text{Cov}[X, Y] = 9 + 4 - 1.5 = 11.5 $$\n",
    "\n",
    "So,\n",
    "\n",
    "$$ \\text{Corr}[X + Y, X - Y] = \\frac{\\text{Cov}[X + Y, X - Y]}{\\sqrt{\\text{Var}[X + Y] \\text{Var}[X - Y]}} = \\frac{5}{\\sqrt{14.5 \\cdot 11.5}} \\approx 0.3872 $$"
   ]
  },
  {
   "cell_type": "markdown",
   "metadata": {},
   "source": [
    "## Exercise 2.2.  \n",
    "If $X$ and $Y$ are dependent but $\\text{Var}[X] = \\text{Var}[Y]$, find $\\text{Cov}[X + Y, X - Y]$."
   ]
  },
  {
   "cell_type": "markdown",
   "metadata": {},
   "source": [
    "**Solution**.\n",
    "\n",
    "$$ \\text{Cov}[X + Y, X - Y] = \\text{Cov}[X, X] - \\text{Cov}[X, Y] + \\text{Cov}[X, Y] - \\text{Cov}[Y, Y] = \\text{Var}[X] - \\text{Var}[Y] = 0 $$"
   ]
  },
  {
   "cell_type": "markdown",
   "metadata": {},
   "source": [
    "## Exercise 2.3\n",
    "Let $X$ have a distribution with mean $\\mu$ and variance $\\sigma^2$, and let $Y_t = X$ for all $t$.\n",
    "\n",
    "**(a)** Show that $\\{ Y_t \\}$ is strictly and weakly stationary.\n",
    "\n",
    "**(b)** Find the autocovariance function for $\\{ Y_t \\}$.\n",
    "\n",
    "**(c)** Sketch a \"typical\" time plot of $\\{ Y_t \\}$."
   ]
  },
  {
   "cell_type": "markdown",
   "metadata": {},
   "source": [
    "**Solution**."
   ]
  },
  {
   "cell_type": "markdown",
   "metadata": {},
   "source": [
    "**(a)**  By definition, the distribution of $Y_{t_1}, Y_{t_2}, \\dots, Y_{t_n}$ is $n$ identical copies of a sample drawn from $X$, which is the same as the distribution of $Y_{t_1 - k}, Y_{t_2 - k}, \\dots, Y_{t_n - k}$ for any $k$, therefore $\\{Y_t\\}$ is strictly stationary.\n",
    "\n",
    "The mean function is $\\mu$ for all $t$, so it is constant over time, and the autocovariance function is $\\gamma_{t, t - k} = \\text{Cov}[Y_t, Y_{t - k}] = \\text{Var}[X] = \\sigma^2$ is also constant for all time $t$ and lag $k$, and so $\\{Y_t\\}$ is weakly stationary."
   ]
  },
  {
   "cell_type": "markdown",
   "metadata": {},
   "source": [
    "**(b)**  As shown in (a), the covariance function is\n",
    "\n",
    "$$ \\gamma_{t, s} = \\text{Cov}[Y_t, Y_s] = \\text{Var}[X] = \\sigma^2 $$"
   ]
  },
  {
   "cell_type": "markdown",
   "metadata": {},
   "source": [
    "**(c)**  A \"typical\" time plot of $\\{ Y_t \\}$ is a constant series, with all values equal to some value drawn from the distribution of $X$."
   ]
  },
  {
   "cell_type": "code",
   "execution_count": 7,
   "metadata": {},
   "outputs": [],
   "source": [
    "require(ggplot2)\n",
    "require(latex2exp)\n",
    "# install.packages(\"latex2exp\")"
   ]
  },
  {
   "cell_type": "code",
   "execution_count": 6,
   "metadata": {},
   "outputs": [
    {
     "data": {
      "image/png": "[encoded data removed]",
      "text/plain": [
       "plot without title"
      ]
     },
     "metadata": {},
     "output_type": "display_data"
    }
   ],
   "source": [
    "options(repr.plot.width=12, repr.plot.height=4)\n",
    "\n",
    "X = rep.int(3, 10)\n",
    "nn = seq(1, 10)\n",
    "\n",
    "ggplot() + \n",
    "  geom_line(aes(x=nn, y=X), color='blue') +\n",
    "  geom_point(aes(x=nn, y=X), color='blue') +\n",
    "  xlab(TeX('t')) + ylab(TeX('Y_t')) +\n",
    "  theme_bw() + theme(text = element_text(size=16))"
   ]
  },
  {
   "cell_type": "markdown",
   "metadata": {},
   "source": [
    "## Exercise 2.4\n",
    "Let $\\{ e_t \\}$ be a zero mean white noise process.  Suppose that the observed process is $Y_t = e_t + \\theta e_{t - 1}$, where $\\theta$ is either 3 or 1/3.\n",
    "\n",
    "**(a)** Find the autocorrelation function for $\\{ Y_t \\}$ both when $\\theta = 3$ and when $\\theta = 1/3$.\n",
    "\n",
    "**(b)** You should have discovered that the time series is stationary regardless of the value of $\\theta$ and that the autocorrelation functions are the same for $\\theta = 3$ and $\\theta = 1/3$.  For simplicity, suppose that the process mean is known to be zero and the variance of $Y_t$ is known to be 1.  You observe the series $\\{Y_t\\}$ for $t = 1, 2, \\dots, n$ and suppose that you can produce good estimates of the autocorrelations $\\rho_k$.  Do you think that you could determine which value of $\\theta$ is correct (3 or 1/3) based on the estimate of $\\rho_k$?  Why or why not?"
   ]
  },
  {
   "cell_type": "markdown",
   "metadata": {},
   "source": [
    "**Solution**."
   ]
  },
  {
   "cell_type": "markdown",
   "metadata": {},
   "source": [
    "**(a)**  The variance is:\n",
    "\n",
    "$$ \\text{Var}[Y_t] = \\text{Var}[e_t + \\theta e_{t - 1}] = \\text{Var}[e_t] + \\theta^2 \\text{Var}[e_{t - 1}] = (1 + \\theta^2) \\sigma_e^2 $$\n",
    "\n",
    "Also\n",
    "\n",
    "$$\n",
    "\\text{Cov}[Y_t, Y_{t - 1}] = \\text{Cov}[e_t + \\theta e_{t - 1}, e_{t - 1} + \\theta e_{t - 2}] = \\theta \\text{Var}[e_{t-1}] = \\theta \\sigma_2^2\n",
    "$$\n",
    "\n",
    "and for element pairs with lag $k > 1$,\n",
    "\n",
    "$$ \\text{Cov}[Y_t, Y_{t - k}] = \\text{Cov}[e_t + \\theta e_{t - 1}, e_{t - k} + \\theta e_{t - k - 1}] = 0 $$\n",
    "\n",
    "Therefore, the autocovariance function is\n",
    "\n",
    "$$ \\gamma_{t, s} = \\begin{cases}\n",
    "(1 + \\theta^2) \\sigma_e^2 &\\text{for } | t - s | = 0 \\\\\n",
    "\\theta \\sigma_e^2         &\\text{for } | t - s | = 1 \\\\\n",
    "0                         &\\text{for } | t - s | > 1\n",
    "\\end{cases}\n",
    "$$\n",
    "\n",
    "and the autocorrelation function is\n",
    "\n",
    "$$ \\rho_{t, s} = \\begin{cases}\n",
    "1                            &\\text{for } | t - s | = 0 \\\\\n",
    "\\theta / (1 + \\theta^2)      &\\text{for } | t - s | = 1 \\\\\n",
    "0                            &\\text{for } | t - s | > 1\n",
    "\\end{cases}\n",
    "$$\n",
    "\n",
    "Note that $\\theta / (1 + \\theta^2) = 0.3$ for both $\\theta = 3$ and $\\theta = 1/3$ (this likely being the point of the exercise), so in either scenario the autocorrelation function is\n",
    "\n",
    "$$ \\rho_{t, s} = \\begin{cases}\n",
    "1        &\\text{for } | t - s | = 0 \\\\\n",
    "0.3      &\\text{for } | t - s | = 1 \\\\\n",
    "0        &\\text{for } | t - s | > 1\n",
    "\\end{cases}\n",
    "$$"
   ]
  },
  {
   "cell_type": "markdown",
   "metadata": {},
   "source": [
    "**(b)**  As shown in (a) and stated on the exercise, the series will have the same autocorrelation whether $\\theta = 3$ or $\\theta = 1/3$, so estimates of this property cannot be used to distinguish between the two candidate models."
   ]
  },
  {
   "cell_type": "markdown",
   "metadata": {},
   "source": [
    "## Exercise 2.5 \n",
    "Suppose $Y_t = 5 + 2t + X_t$, where $\\{ X_t \\}$ is zero-mean stationary series with autocovariance function $\\gamma_k$.\n",
    "\n",
    "**(a)** Find the mean function for $\\{ Y_t \\}$.\n",
    "\n",
    "**(b)** Find the autocovariance function for $\\{ Y_t \\}$.\n",
    "\n",
    "**(c)** Is $\\{ Y_t \\}$ stationary?  Why or why not?"
   ]
  },
  {
   "cell_type": "markdown",
   "metadata": {},
   "source": [
    "**Solution**."
   ]
  },
  {
   "cell_type": "markdown",
   "metadata": {},
   "source": [
    "**(a)** \n",
    "\n",
    "$$ \\mu_t = \\text{E}[Y_t] = \\text{E}[5 + 2t + X_t] = 5 + 2t + \\text{E}[X_t] = 5 + 2t $$"
   ]
  },
  {
   "cell_type": "markdown",
   "metadata": {},
   "source": [
    "**(b)** The covariance for terms with lag $k$ is\n",
    "\n",
    "$$ \\text{Cov}[Y_t, Y_{t - k}] = \\text{Cov}[5 + 2t + X_t, 5 + 2(t - k) + X_{t - k}] = \\text{Cov}[X_t, X_{t - k}] = \\gamma_k $$\n",
    "\n",
    "Therefore, the autocovariance function for $\\{Y_t\\}$ is the same as the autocovariance function for $\\{X_t\\}$, $\\gamma_k$."
   ]
  },
  {
   "cell_type": "markdown",
   "metadata": {},
   "source": [
    "**(c)** The series $\\{Y_t\\}$ is not stationary because the mean is not constant over time -- there is a time drift term, $2t$, in the mean function."
   ]
  },
  {
   "cell_type": "markdown",
   "metadata": {},
   "source": [
    "## Exercise 2.6 \n",
    "Let $\\{ X_t \\}$ be a stationary time series, and let \n",
    "\n",
    "$$ Y_t = \\begin{cases}\n",
    "X_t &\\text{for } t \\text{ odd} \\\\\n",
    "X_t + 3 &\\text{for } t \\text{ even}\n",
    "\\end{cases} $$\n",
    "\n",
    "**(a)**  Show that $\\text{Cov}[Y_t, Y_{t - k}]$ is free of $t$ for all lags $k$.\n",
    "\n",
    "**(b)**  Is $\\{ Y_t \\}$ stationary?"
   ]
  },
  {
   "cell_type": "markdown",
   "metadata": {},
   "source": [
    "**Solution**."
   ]
  },
  {
   "cell_type": "markdown",
   "metadata": {},
   "source": [
    "**(a)**  For every possible parity combination of $t$ and $k$ we have:\n",
    "\n",
    "- Even $t$, even $k$:  $\\text{Cov}[Y_t, Y_{t - k}] = \\text{Cov}[X_t + 3, X_{t - k} + 3] = \\text{Cov}[X_t, X_{t - k}] $\n",
    "- Even $t$, odd $k$:  $\\text{Cov}[Y_t, Y_{t - k}] = \\text{Cov}[X_t + 3, X_{t - k}] = \\text{Cov}[X_t, X_{t - k}] $\n",
    "- Odd $t$, even $k$:  $\\text{Cov}[Y_t, Y_{t - k}] = \\text{Cov}[X_t, X_{t - k}] $\n",
    "- Odd $t$, odd $k$:  $\\text{Cov}[Y_t, Y_{t - k}] = \\text{Cov}[X_t, X_{t - k} + 3] = \\text{Cov}[X_t, X_{t - k}] $\n",
    "\n",
    "Since $\\{X_t\\}$ is stationary, $\\text{Cov}[X_t, X_{t - k}]$ is free of $t$, and so $\\text{Cov}[Y_t, Y_{t - k}]$ is free of $t$."
   ]
  },
  {
   "cell_type": "markdown",
   "metadata": {},
   "source": [
    "**(b)**  No, as its mean function is not constant over time.  Given that $\\{ X_t \\}$ is stationary, it has a constant mean $\\overline{X}$, and we have\n",
    "\n",
    "$$ \\text{E}[Y_t] = \\begin{cases}\n",
    "\\overline{X} &\\text{for } t \\text{ odd} \\\\\n",
    "\\overline{X} + 3 &\\text{for } t \\text{ even}\n",
    "\\end{cases} $$\n",
    "\n",
    "is not constant over time."
   ]
  },
  {
   "cell_type": "markdown",
   "metadata": {},
   "source": [
    "## Exercise 2.7  \n",
    "Suppose that $\\{Y_t\\}$ is stationary with autocovariance function $\\gamma_k$.\n",
    "\n",
    "**(a)**  Show that $W_t = \\nabla Y_t = Y_t - Y_{t - 1}$ is stationary by finding the mean and the autocovariance function for $\\{ W_t \\}$.\n",
    "\n",
    "**(b)**  Show that $U_t = \\nabla^2 Y_t = \\nabla[Y_t - Y_{t - 1}] = Y_t - 2 Y_{t - 1} + Y_{t - 2}$ is stationary.  (You need not find the mean and autocovariance function for $\\{U_t\\}$.)"
   ]
  },
  {
   "cell_type": "markdown",
   "metadata": {},
   "source": [
    "**Solution**."
   ]
  },
  {
   "cell_type": "markdown",
   "metadata": {},
   "source": [
    "**(a)**  Since $\\{Y_t\\}$ has a constant mean $\\overline{Y}$ over time, the mean of $W_t$ is\n",
    "\n",
    "$$ \\text{E}[W_t] = \\text{E}[Y_t - Y_{t - 1}] = \\text{E}[Y_t] - \\text{E}[Y_{t - 1}] = \\overline{Y} - \\overline{Y} = 0 $$\n",
    "\n",
    "The variance of $W_t$ is\n",
    "\n",
    "$$ \\text{Var}[W_t] = \\text{Var}[Y_t - Y_{t - 1}] = 2\\gamma_0-2\\gamma_1 $$\n",
    "\n",
    "The covariance of $W_t$ with lag $k \\geq 1$ is\n",
    "\n",
    "$$ \n",
    "\\begin{aligned}\n",
    "\\text{Cov}[W_t, W_{t - k}] &= \\text{Cov}[Y_t - Y_{t - 1}, Y_{t - k} - Y_{t - k - 1}] \\cr\n",
    "&= \\text{Cov}[Y_t, Y_{t - k}] - \\text{Cov}[Y_t,  Y_{t - k - 1}] - \\text{Cov}[Y_{t - 1}, Y_{t - k}] + \\text{Cov}[Y_{t - 1}, Y_{t - k - 1}] \n",
    "&= 2 \\gamma_k - \\gamma_{k + 1} - \\gamma_{k - 1}\n",
    "\\end{aligned}\n",
    "$$\n",
    "\n",
    "therefore the autocovariance function for $\\{W_t\\}$ is\n",
    "\n",
    "$$ \\omega_k = \\begin{cases}\n",
    "2\\gamma_0-2\\gamma_1 &\\text{for } k = 0 \\\\\n",
    "2 \\gamma_k - \\gamma_{k + 1} - \\gamma_{k - 1} &\\text{for } k > 0\n",
    "\\end{cases} $$\n",
    "\n",
    "Since the autocovariance function is free of $k$ and the mean is constant over time, then $\\{W_t\\} is stationary."
   ]
  },
  {
   "cell_type": "markdown",
   "metadata": {},
   "source": [
    "**(b)**  Applying the result of (a) to the series $\\{ W_t \\}$ rather than $ \\{ Y_t \\}$, we get that the series $\\{U_t\\} = \\{ \\nabla W_t \\}$ must also be stationary."
   ]
  },
  {
   "cell_type": "markdown",
   "metadata": {},
   "source": [
    "## Exercise 2.8 \n",
    "Suppose that $\\{Y_t\\}$ is stationary with autocovariance function $\\gamma_k$.  Show that for any positive integer $n$ and any constants $c_1, c_2, \\dots c_n$ the process $\\{ W_t \\}$ defined by $W_t = c_1 Y_t + c_2 Y_{t - 1} + \\cdots + c_n Y_{t - n + 1}$ is stationary.  (Note that Exercise 2.7 is a special case of this result)."
   ]
  },
  {
   "cell_type": "markdown",
   "metadata": {},
   "source": [
    "**Solution**.  If the mean of $\\{Y_t\\}$ is $\\overline{Y}$, then the mean of $\\{W_t\\}$ is\n",
    "\n",
    "$$ \\text{E}[W_t] = \\text{E}\\left[ \\sum_{i=1}^n c_i Y_{t - i + 1} \\right] = \\sum_{i=1}^n c_i \\text{E}[Y_{t - i + 1}] = \\overline{Y} \\sum_{i=1}^n c_i $$\n",
    "\n",
    "which is constant over time.\n",
    "\n",
    "The variance of $W_t$ with lag $k \\geq 0$ is\n",
    "\n",
    "$$ \\begin{aligned}\n",
    "\\text{Cov}[W_t, W_{t - k}] &= \\text{Cov}\\left[ \\sum_{i=1}^n c_i Y_{t - i + 1}, \\sum_{j=1}^n c_i Y_{t - j + 1 - k}\\right] \\\\\n",
    "&= \\sum_{i=1}^n \\sum_{j=1}^n c_i c_j \\text{Cov} [ Y_{t - i + 1}, Y_{t - j + 1 - k} ]\n",
    "\\end{aligned} $$\n",
    "\n",
    "and since the difference in the indices of $\\text{Cov} [ Y_{t - i + 1}, Y_{t - j + 1 - k} ]$ does not depend on $t$, no matter which index is largest, then the overall expression is always a linear combination of the autocovariance function $\\gamma_m$ for $0 \\leq m \\leq n + k - 1$,\n",
    "\n",
    "$$ \\text{Cov}[W_t, W_{t - k}] = \\sum_{m=0}^{n + k - 1} d_{m, k} \\gamma_m $$\n",
    "\n",
    "for some constants $d_{m, k}$ that do not depend on $t$.  Therefore, $\\{W_t\\}$ is stationary."
   ]
  },
  {
   "cell_type": "markdown",
   "metadata": {},
   "source": [
    "## Exercise 2.9\n",
    "Suppose $Y_t = \\beta_0 + \\beta_1 t + X_t$, where $\\{X_t\\}$ is a zero-mean stationary series with autocovariance function $\\gamma_k$ and $\\beta_0$ and $\\beta_1$ are constants.\n",
    "\n",
    "**(a)**  Show that $\\{ Y_t \\}$ is not stationary but that $W_t = \\nabla Y_t = Y_t - Y_{t - 1}$ is stationary.\n",
    "\n",
    "**(b)**  In general, show that if $Y_t = \\mu_t + X_t$, where $\\{ X_t \\}$ is a zero-mean stationary series and $\\mu_t$ is a polynomial in $t$ of degree $d$, then $\\nabla^m Y_t = \\nabla (\\nabla^{m - 1} Y_t)$ is stationary for $m \\geq d$ and nonstationary for $0 \\leq m \\leq d$."
   ]
  },
  {
   "cell_type": "markdown",
   "metadata": {},
   "source": [
    "**(a)**  We have\n",
    "\n",
    "$$ \\text{E}[Y_t] = \\text{E}[\\beta_0 + \\beta_1 t + X_t] = \\beta_0 + \\beta_1 t + \\overline{X} $$\n",
    "\n",
    "so the mean of $Y_t$ is not constant in time, and so $\\{Y_t\\}$ is not stationary.\n",
    "\n",
    "On the other hand, the mean of $\\{W_t\\}$ is constant in time,\n",
    "\n",
    "$$ \\text{E}[W_t] = \\text{E}[Y_t - Y_{t - 1}] = \\text{E}[Y_t] - \\text{E}[Y_{t - 1}] = \\beta_1 $$\n",
    "\n",
    "The variance of $W_t$ is\n",
    "\n",
    "$$ \n",
    "\\begin{aligned}\n",
    "\\text{Var}[W_t] &= \\text{Var}[Y_t - Y_{t - 1}] \\\\\n",
    "&= \\text{Var}[\\beta_0 + \\beta_1 t + X_t - \\beta_0 - \\beta_1 (t - 1) - X_{t - 1}] \\\\\n",
    "&= \\text{Var}[\\beta_1 + X_t - X_{t - 1}] \\\\\n",
    "&= \\text{Var}[X_t - X_{t - 1}] \\\\\n",
    "&= \\text{Var}{X_t} + \\text{Var}[X_{t - 1}] - 2 \\text{Cov}[X_t, X_{t - 1}] \\\\\n",
    "&= 2\\gamma_0 - 2\\gamma_1\n",
    "\\end{aligned}\n",
    "$$\n",
    "\n",
    "while the covariance of $W_t$ for lag $k > 0$ is\n",
    "\n",
    "$$ \n",
    "\\begin{aligned}\n",
    "\\text{Cov}[W_t, W_{t - k}] &= \\text{Cov}[Y_t - Y_{t - 1}, Y_{t - k} - Y_{t - k - 1}] \\\\\n",
    "&= \\text{Cov}[\\beta_0 + \\beta_1 t + X_t - \\beta_0 - \\beta_1 (t - 1) - X_{t - 1}, \n",
    "\\beta_0 + \\beta_1 (t - k) + X_{t - k} - \\beta_0 - \\beta_1 (t - k - 1) - X_{t - k - 1}] \\\\\n",
    "&= \\text{Cov}[\\beta_1 + X_t - X_{t - 1}, \\beta_1 + X_{t - k} -  X_{t - k - 1}] \\\\\n",
    "&= \\text{Cov}[X_t - X_{t - 1}, X_{t - k} -  X_{t - k - 1}] \\\\\n",
    "&= \\text{Cov}[X_t, X_{t - k}] - \\text{Cov}[X_t, X_{t - k - 1}] - \\text{Cov}[X_{t - 1}, X_{t - k - 1}] + \\text{Cov}[X_{t - 1}, X_{t - k - 1}] \\\\\n",
    "&= 2\\gamma_k - \\gamma_{k + 1} - \\gamma_{k - 1}\n",
    "\\end{aligned}\n",
    "$$\n",
    "\n",
    "and so the autocovariance function for $\\{W_t\\}$ does not depend on $t$,\n",
    "\n",
    "$$ \\omega_k = \\begin{cases}\n",
    "2\\gamma_0-2\\gamma_1 &\\text{for } k = 0 \\\\\n",
    "2 \\gamma_k - \\gamma_{k + 1} - \\gamma_{k - 1} &\\text{for } k > 0\n",
    "\\end{cases} $$\n",
    "\n",
    "Since $\\{W_t\\}$ has a constant mean in time and an autocovariance function that does not depend on time, it is stationary."
   ]
  },
  {
   "cell_type": "markdown",
   "metadata": {},
   "source": [
    "**(b)**  \n",
    "\n",
    "**Lemma 2.9.1**: if $\\{Y_t\\}$ is stationary, then $\\{ \\nabla Y_t \\}$ must also be stationary.\n",
    "\n",
    "**Proof**:\n",
    "\n",
    "- The mean of $\\{ \\nabla Y_t \\}$ constant (and zero):\n",
    "\n",
    "$$ \\text{E}[\\nabla Y_t] = \\text{E}[Y_t - Y_{t - 1}] = \\text{E}[Y_t] - \\text{E}[Y_{t - 1}] = \\overline{Y} - \\overline{Y} = 0 $$\n",
    "\n",
    "- Assuming $\\{Y_t\\}$ has autocovariance function $\\gamma_k$, the variance of $\\{ \\nabla Y_t \\}$ is:\n",
    "\n",
    "  $$ \\text{Var}[ \\nabla Y_t ] = \\text{Var}[Y_t - Y_{t - 1}] = \\text{Var}{Y_t} + \\text{Var}[Y_{t - 1}] - 2 \\text{Cov}[Y_t, Y_{t - 1}] = 2\\gamma_0 - 2 \\gamma_1 $$\n",
    "\n",
    "  and the autocovariance for lag $k > 0$ is\n",
    "  \n",
    "  $$ \n",
    "  \\begin{aligned}\n",
    "  \\text{Cov}[\\nabla Y_t, \\nabla Y_{t - k}] &= \\text{Cov}[Y_t - Y_{t - 1}, Y_{t - k} - Y_{t - k - 1}] \\\\\n",
    "  &= \\text{Cov}[Y_t, Y_{t - k}] - \\text{Cov}[Y_t, Y_{t - k - 1}] - \\text{Cov}[Y_{t - 1}, Y_{t - k - 1}] + \\text{Cov}[Y_{t - 1}, Y_{t - k - 1}] \\\\\n",
    "&= 2\\gamma_k - \\gamma_{k + 1} - \\gamma_{k - 1}\n",
    "  \\end{aligned}\n",
    "  $$\n",
    "  \n",
    "Therefore $\\{\\nabla Y_t\\}$ has a constant mean and an autocovariance function that does not depend on time, and so it is stationary.\n",
    "\n",
    "**Lemma 2.9.2**: If $\\mu_t$ is a polynomial of degree $d$, then $\\nabla^k \\mu_t = \\nabla(\\nabla^{k - 1}\\mu_t - \\nabla^{k - 1}\\mu_{t - 1})$ is a polynomial of degree $d - k$, for $1 \\leq k \\leq d$.\n",
    "\n",
    "**Proof**: Let $\\mu_t = \\sum_{j=0}^d c_j t^j$, for constants $c_j$.  \n",
    "\n",
    "- For $k = 1$, $\\nabla \\mu_t = \\mu_t - \\mu_{t - 1} = \\sum_{j=1}^d c_j (t^j - (t - 1)^j) $.  In each term, the coefficients of $t^j$ in $t^j$ and $(t - 1)^j$ cancel out, so $t^j - (t - 1)^j$ is a polynomial of degree $j - 1$, and the overall expression is a polynomial of degree $d - 1$.\n",
    "- For $k > 1$, $\\nabla^k \\mu_t = \\nabla(\\nabla^{k - 1}\\mu_t - \\nabla^{k - 1}\\mu_{t - 1}) = \\nabla (a_t - a_{t - 1})$, where $a_t$ is a polynomial of degree $d - k + 1$ by induction, therefore $\\nabla^k \\mu_t$ is a polynomial of degree $d - k$.\n",
    "\n",
    "Now, we can prove the result from (b) by induction.  \n",
    "\n",
    "- Base case $d = 0$:  This is equivalent to Lemma 2.9.1.\n",
    "\n",
    "- Base case $d = 1$:  This is equivalent to the result in (a).\n",
    "\n",
    "- Induction step:\n",
    "  - If $m < d$, then $\\nabla_m Y_t$ is a polynomial $A$ in $t$ with degree $d - m$, plus a linear combination of $X_t, X_{t - 1}, \\dots, X_{t - m}$.  Therefore the expected value of $\\nabla_m Y_t$ is  $\\text{E}[A(t) - A(t - 1) + \\sum c_j X_j] = A(t) - A(t - 1) + \\overline{X} \\sum c_j$, which is a non-constant function of $t$.  Therefore the mean is not constant in time, and so $\\{ \\nabla^m Y_t \\}$ is not stationary. (Actually we only need to prove this case). \n",
    "  - If $m > d$, then $\\nabla_m Y_t$ is a linear combination of $X_t, X_{t - 1}, \\dots, X_{t - m}$ (using Lemma 2.9.2, applying $\\nabla$ enough times zeroes out the polynomial component).  Therefore, from Lemma 2.9.1, $\\{ \\nabla^m Y_t \\}$ is stationary.\n",
    "  - If $m = d$, then $\\nabla_m Y_t$ is a zero degree polynomial (a constant) plus a linear combination of of $X_t, X_{t - 1}, \\dots, X_{t - m}$ (using Lemma 2.9.2, applying $\\nabla$ enough times to bring the degree down to exactly 0).  Therefore, the expectation of $\\nabla^m Y_t$ is that constant plus $\\overline{X} \\sum c_j$, and so it does not change with time.  The zero-polynomial constant only scales up the covariance terms by a constant factor, and so the autocovariance also does not depend on the time."
   ]
  },
  {
   "cell_type": "markdown",
   "metadata": {},
   "source": [
    "## Exercise 2.10\n",
    "Let $\\{X_t\\}$ be a zero-mean, unit-variance stationary process with autocorrelation function $\\rho_k$.  Suppose that $\\mu_t$ is a nonconstant function and that $\\sigma_t$ is a positive-valued nonconstant function.  The observed series is formed as $Y_t = \\mu_t + \\sigma_t X_t$.\n",
    "\n",
    "**(a)**  Find the mean and the covariance function for the $\\{ Y_t \\}$ process.\n",
    "\n",
    "**(b)**  Show that the autocorrelation function for the $\\{ Y_t \\}$ process depends only on the time lag.  Is the $\\{Y_t\\}$ process stationary?\n",
    "\n",
    "**(c)**  Is it possible to have a time series with a constant mean and with $\\text{Corr}[Y_t, Y_{t - k}]$ free of $t$ but with $\\{Y_t\\}$ not stationary?"
   ]
  },
  {
   "cell_type": "markdown",
   "metadata": {},
   "source": [
    "**Solution**."
   ]
  },
  {
   "cell_type": "markdown",
   "metadata": {},
   "source": [
    "**(a)**  The mean of the process is:\n",
    "\n",
    "$$ \\text{E}[Y_t] = \\text{E}[\\mu_t + \\sigma_t X_t] = \\mu_t + \\sigma_t \\text{E}[X_t] = \\mu_t $$\n",
    "\n",
    "and the covariance function is\n",
    "\n",
    "$$ \\text{Cov}[Y_t, Y_s] = \\text{Cov}[\\mu_t + \\sigma_t X_t, \\mu_s + \\sigma_s X_s] = \\sigma_t \\sigma_s \\text{Cov}[X_t, X_s] = \\sigma_t \\sigma_s \\rho_{t - s}$$"
   ]
  },
  {
   "cell_type": "markdown",
   "metadata": {},
   "source": [
    "**(b)**  The autocorrelation for the $\\{ Y_t \\}$ process is\n",
    "\n",
    "$$ \\text{Corr}[Y_t, Y_{t - k}] = \\frac{\\text{Cov}[Y_t, Y_{t - k}]}{\\sqrt{\\text{Var}[Y_t] \\text{Var}[Y_{t - k}]}} = \\frac{\\sigma_t \\sigma_{t - k} \\rho_k}{\\sqrt{\\sigma_t^2 \\sigma_{t - k}^2}} = \\rho_k $$\n",
    "\n",
    "that is, it is the same as the autocorrelation for the $\\{X_t\\}$ process, and it depends only on the time lag.\n",
    "\n",
    "Note that this does not make the process stationary, both because it has nonconstant mean $\\mu_t$ and because stationarity requires time-independent autocovariance, not time-independent autocorrelation."
   ]
  },
  {
   "cell_type": "markdown",
   "metadata": {},
   "source": [
    "**(c)** Yes -- for example, take $\\{X_t\\}$ as some series with more than two distinct non-zero autocorrelation values, make $\\mu_t = 0$ and $\\sigma_t = t$.  Then, even though $\\{Y_t\\}$ has constant mean 0, the autocovariance depends on the time,\n",
    "\n",
    "$$ \\text{Cov}[Y_t, Y_{t - k}] = \\sigma_t \\sigma_{t - k} \\rho_k = t(t-k) \\rho_k$$\n",
    "\n",
    "despite that $\\text{Corr}[Y_t, Y_{t - k}] = \\rho_k$ is free of $t$."
   ]
  }
 ],
 "metadata": {
  "kernelspec": {
   "display_name": "R",
   "language": "R",
   "name": "ir"
  },
  "language_info": {
   "codemirror_mode": "r",
   "file_extension": ".r",
   "mimetype": "text/x-r-source",
   "name": "R",
   "pygments_lexer": "r",
   "version": "3.6.3"
  },
  "toc-autonumbering": false,
  "toc-showcode": false
 },
 "nbformat": 4,
 "nbformat_minor": 4
}
